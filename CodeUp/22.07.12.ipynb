{
 "cells": [
  {
   "cell_type": "markdown",
   "id": "f5d9052b",
   "metadata": {},
   "source": [
    "### [6041] 정수 2개 입력받아 나눈 나머지 계산\n",
    "- 정수 2개(a, b) 를 입력받아 a를 b로 나눈 나머지를 출력\n",
    "- 2개의 정수(a, b)가 공백으로 구분되어 입력"
   ]
  },
  {
   "cell_type": "code",
   "execution_count": null,
   "id": "17529605",
   "metadata": {},
   "outputs": [],
   "source": [
    "num1, num2 = map(int, input().split())\n",
    "\n",
    "print(num1%num2)"
   ]
  },
  {
   "cell_type": "markdown",
   "id": "6d2342d6",
   "metadata": {},
   "source": [
    "### [6042] 실수 1개 입력받아 소숫점이하 자리 변환\n",
    "- 실수 1개를 입력받아 소숫점 이하 두 번째 자리까지의 정확도로 반올림한 값을 출력"
   ]
  },
  {
   "cell_type": "code",
   "execution_count": null,
   "id": "b77aba4a",
   "metadata": {},
   "outputs": [],
   "source": [
    "num = float(input())\n",
    "print( format(num, \".2f\") )"
   ]
  },
  {
   "cell_type": "markdown",
   "id": "3d46c334",
   "metadata": {},
   "source": [
    "### [6043] 실수 2개 입력받아 나눈 결과 계산\n",
    "- 실수 2개(f1, f2)를 입력받아 f1 을 f2 로 나눈 값을 출력. 이 때 소숫점 넷째자리에서 반올림하여 무조건 소숫점 셋째 자리까지 출력\n",
    "- 2개의 실수(f1, f2)가 공백으로 구분되어 입력"
   ]
  },
  {
   "cell_type": "code",
   "execution_count": null,
   "id": "d6f13080",
   "metadata": {},
   "outputs": [],
   "source": [
    "f1, f2 = map(float, input().split())\n",
    "print( format(f1/f2,\".3f\") )"
   ]
  },
  {
   "cell_type": "markdown",
   "id": "9792e242",
   "metadata": {},
   "source": [
    "### [6044] 정수 2개 입력받아 자동 계산\n",
    "- 정수 2개(a, b)를 입력받아 합, 차, 곱, 몫, 나머지, 나눈 값을 자동으로 계산. (단, b는 0이 아님)\n",
    "- 정수 2개가 공백을 두고 입력"
   ]
  },
  {
   "cell_type": "code",
   "execution_count": null,
   "id": "c4224f09",
   "metadata": {},
   "outputs": [],
   "source": [
    "n1,n2 = map(int, input().split())\n",
    "\n",
    "print(n1+n2)\n",
    "print(n1-n2)\n",
    "print(n1*n2)\n",
    "print(n1//n2)\n",
    "print(n1%n2)\n",
    "print( format(n1/n2,\".2f\") )"
   ]
  },
  {
   "cell_type": "markdown",
   "id": "b3e254dc",
   "metadata": {},
   "source": [
    "### [6045] 정수 3개 입력받아 합과 평균 출력\n",
    "- 정수 3개를 입력받아 합과 평균을 출력\n",
    "- 정수 3개가 공백을 두고 입력\n",
    "- 합과 평균을 공백을 두고 출력, 평균은 소숫점 이하 셋째 자리에서 반올림하여 둘째 자리까지 출력"
   ]
  },
  {
   "cell_type": "code",
   "execution_count": null,
   "id": "e951a854",
   "metadata": {},
   "outputs": [],
   "source": [
    "n1,n2,n3 = map(int, input().split())\n",
    "total = n1+n2+n3\n",
    "print(total, format(total/3,\".2f\") )"
   ]
  },
  {
   "cell_type": "markdown",
   "id": "15b562e2",
   "metadata": {},
   "source": [
    "<br>\n",
    "\n",
    "### [6046] (Bit-Shift Operator) 정수 1개 입력받아 2배 곱해 출력\n",
    "- 정수 1개를 입력받아 2배 곱해 출력\n",
    "- **Bit-Shift Operator**\n",
    "    - 정수를 2배로 곱하거나 나누어 계산\n",
    "    - 왼쪽 비트시프트(<<)가 될 때에는 오른쪽에 0이 주어진 개수만큼 추가되고,오른쪽 비트시프트(>>)가 될 때에는 왼쪽에 0(0 또는 양의 정수인 경우)이나 1(음의 정수인 경우)이 개수만큼 추가되고,가장 오른쪽에 있는 1비트는 사라짐.\n",
    "    - python에서 실수 값에 대한 비트시프트 연산은 허용되지 않고 오류 발생"
   ]
  },
  {
   "cell_type": "code",
   "execution_count": null,
   "id": "f56f3e55",
   "metadata": {},
   "outputs": [],
   "source": [
    "num = int(input())\n",
    "print(num<<1)"
   ]
  },
  {
   "cell_type": "markdown",
   "id": "99879ced",
   "metadata": {},
   "source": [
    "### [6047] 2의 거듭제곱 배로 곱해 출력\n",
    "- 정수 2개(a, b)를 입력받아 a를 2b배 곱한 값으로 출력 (0 <= a <= 10, 0 <= b <= 10)"
   ]
  },
  {
   "cell_type": "code",
   "execution_count": null,
   "id": "b4a1eb49",
   "metadata": {},
   "outputs": [],
   "source": [
    "a,b = map(int, input().split())\n",
    "print(a<<b)"
   ]
  },
  {
   "cell_type": "markdown",
   "id": "db751770",
   "metadata": {},
   "source": [
    "### [6048] 정수 2개 입력받아 비교-1\n",
    "- 두 정수(a, b)를 입력받아\n",
    "a가 b보다 작으면 True 를, a가 b보다 크거나 같으면 False 를 출력하는 프로그램"
   ]
  },
  {
   "cell_type": "code",
   "execution_count": null,
   "id": "2edc7ba9",
   "metadata": {},
   "outputs": [],
   "source": [
    "a, b = map(int, input().split())\n",
    "print(a<b)"
   ]
  },
  {
   "cell_type": "markdown",
   "id": "b86c7090",
   "metadata": {},
   "source": [
    "### [6049] 정수 2개 입력받아 비교-2\n",
    "- 두 정수(a, b)를 입력받아\n",
    "a와 b의 값이 같으면 True 를, 같지 않으면 False 를 출력하는 프로그램"
   ]
  },
  {
   "cell_type": "code",
   "execution_count": null,
   "id": "b47283d6",
   "metadata": {},
   "outputs": [],
   "source": [
    "a,b = map(int, input().split())\n",
    "\n",
    "print(a==b)"
   ]
  },
  {
   "cell_type": "markdown",
   "id": "d45e9091",
   "metadata": {},
   "source": [
    "### [6050] 정수 2개 입력받아 비교-3\n",
    "- 두 정수(a, b)를 입력받아\n",
    "b의 값이 a의 값 보다 크거나 같으면 True 를, 같지 않으면 False 를 출력하는 프로그램"
   ]
  },
  {
   "cell_type": "code",
   "execution_count": null,
   "id": "e335b6d0",
   "metadata": {},
   "outputs": [],
   "source": [
    "a,b = map(int, input().split())\n",
    "\n",
    "print(a<=b)"
   ]
  },
  {
   "cell_type": "markdown",
   "id": "e1eea45e",
   "metadata": {},
   "source": [
    "### [6051] 정수 2개 입력받아 비교-4\n",
    "- 두 정수(a, b)를 입력받아\n",
    "a의 값이 b의 값과 서로 다르면 True 를, 같으면 False 를 출력하는 프로그램"
   ]
  },
  {
   "cell_type": "code",
   "execution_count": null,
   "id": "ad7fa834",
   "metadata": {},
   "outputs": [],
   "source": [
    "a,b = map(int, input().split())\n",
    "\n",
    "if a != b:\n",
    "    print(True)\n",
    "elif a == b:\n",
    "    print(False)"
   ]
  }
 ],
 "metadata": {
  "kernelspec": {
   "display_name": "Python 3 (ipykernel)",
   "language": "python",
   "name": "python3"
  },
  "language_info": {
   "codemirror_mode": {
    "name": "ipython",
    "version": 3
   },
   "file_extension": ".py",
   "mimetype": "text/x-python",
   "name": "python",
   "nbconvert_exporter": "python",
   "pygments_lexer": "ipython3",
   "version": "3.8.13"
  },
  "toc": {
   "base_numbering": 1,
   "nav_menu": {},
   "number_sections": true,
   "sideBar": true,
   "skip_h1_title": false,
   "title_cell": "Table of Contents",
   "title_sidebar": "Contents",
   "toc_cell": false,
   "toc_position": {},
   "toc_section_display": true,
   "toc_window_display": false
  },
  "varInspector": {
   "cols": {
    "lenName": 16,
    "lenType": 16,
    "lenVar": 40
   },
   "kernels_config": {
    "python": {
     "delete_cmd_postfix": "",
     "delete_cmd_prefix": "del ",
     "library": "var_list.py",
     "varRefreshCmd": "print(var_dic_list())"
    },
    "r": {
     "delete_cmd_postfix": ") ",
     "delete_cmd_prefix": "rm(",
     "library": "var_list.r",
     "varRefreshCmd": "cat(var_dic_list()) "
    }
   },
   "types_to_exclude": [
    "module",
    "function",
    "builtin_function_or_method",
    "instance",
    "_Feature"
   ],
   "window_display": false
  }
 },
 "nbformat": 4,
 "nbformat_minor": 5
}
